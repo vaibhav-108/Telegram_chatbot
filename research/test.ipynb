{
 "cells": [
  {
   "cell_type": "code",
   "execution_count": 1,
   "id": "fdd9cf96",
   "metadata": {},
   "outputs": [
    {
     "name": "stdout",
     "output_type": "stream",
     "text": [
      "hello\n"
     ]
    }
   ],
   "source": [
    "print(\"hello\")\n"
   ]
  },
  {
   "cell_type": "code",
   "execution_count": 1,
   "id": "838cf03f",
   "metadata": {},
   "outputs": [],
   "source": [
    "from openai import OpenAI"
   ]
  },
  {
   "cell_type": "code",
   "execution_count": null,
   "id": "4c910927",
   "metadata": {},
   "outputs": [
    {
     "name": "stdout",
     "output_type": "stream",
     "text": [
      "The capital of India is **New Delhi**. It is a district within the larger National Capital Territory of Delhi and serves as the administrative, political, and cultural center of the country. New Delhi houses key government institutions, including the Parliament of India and the official residences of the President and Prime Minister.\n"
     ]
    }
   ],
   "source": [
    "from openai import OpenAI\n",
    "client= OpenAI(\n",
    "    api_key=\"***************\",\n",
    "    base_url=\"https://openrouter.ai/api/v1\"\n",
    ")\n",
    "completion = client.chat.completions.create(\n",
    "  model=\"deepseek/deepseek-r1:free\",\n",
    "  messages=[\n",
    "     {\"role\": \"system\", \"content\": \"You are a helpful assistant.\"},\n",
    "        {\"role\": \"user\", \"content\": \"what is the capital of india!\"}\n",
    "  \n",
    "  ]\n",
    ")\n",
    "\n",
    "print(completion.choices[0].message.content)\n"
   ]
  }
 ],
 "metadata": {
  "kernelspec": {
   "display_name": "chatbot",
   "language": "python",
   "name": "python3"
  },
  "language_info": {
   "codemirror_mode": {
    "name": "ipython",
    "version": 3
   },
   "file_extension": ".py",
   "mimetype": "text/x-python",
   "name": "python",
   "nbconvert_exporter": "python",
   "pygments_lexer": "ipython3",
   "version": "3.12.0"
  }
 },
 "nbformat": 4,
 "nbformat_minor": 5
}
